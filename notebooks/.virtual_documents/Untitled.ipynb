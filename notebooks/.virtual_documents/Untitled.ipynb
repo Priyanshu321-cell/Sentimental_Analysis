import pandas as pd
import numpy as np
import matplotlib.pyplot as plt


df = pd.read_csv(""C:\Users\Priyanshu\Sentiment_Analysis_Project\data\raw\1429_1.csv")



