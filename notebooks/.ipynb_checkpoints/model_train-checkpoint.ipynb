{
 "cells": [
  {
   "cell_type": "code",
   "execution_count": 1,
   "id": "1237219b-d34d-4f58-b25f-5b972dbb4e50",
   "metadata": {},
   "outputs": [],
   "source": [
    "import pandas as pd\n",
    "import numpy as np\n",
    "import matplotlib.pyplot as plt\n",
    "import csv\n",
    "import math"
   ]
  },
  {
   "cell_type": "code",
   "execution_count": 2,
   "id": "dc37d912-5fe1-4714-a27f-d49420561e5e",
   "metadata": {
    "scrolled": true
   },
   "outputs": [],
   "source": [
    "data = pd.read_csv('../data/raw/data.csv' ,low_memory=False)"
   ]
  },
  {
   "cell_type": "code",
   "execution_count": 3,
   "id": "b6eb46c4-ac76-49cb-a9e0-e1f9a2e949ff",
   "metadata": {},
   "outputs": [],
   "source": [
    "df = data[[\"reviews.rating\" ,\"reviews.text\", \"reviews.title\", \"reviews.username\"]]"
   ]
  },
  {
   "cell_type": "code",
   "execution_count": 4,
   "id": "dd09194e-c540-48e5-a7c7-db48c1e528b3",
   "metadata": {},
   "outputs": [],
   "source": [
    "# filtering"
   ]
  },
  {
   "cell_type": "code",
   "execution_count": 5,
   "id": "7e5ada39-ffc8-4eab-92e1-fdcd246a37b5",
   "metadata": {},
   "outputs": [
    {
     "data": {
      "text/html": [
       "<div>\n",
       "<style scoped>\n",
       "    .dataframe tbody tr th:only-of-type {\n",
       "        vertical-align: middle;\n",
       "    }\n",
       "\n",
       "    .dataframe tbody tr th {\n",
       "        vertical-align: top;\n",
       "    }\n",
       "\n",
       "    .dataframe thead th {\n",
       "        text-align: right;\n",
       "    }\n",
       "</style>\n",
       "<table border=\"1\" class=\"dataframe\">\n",
       "  <thead>\n",
       "    <tr style=\"text-align: right;\">\n",
       "      <th></th>\n",
       "      <th>reviews.text</th>\n",
       "      <th>reviews.rating</th>\n",
       "    </tr>\n",
       "  </thead>\n",
       "  <tbody>\n",
       "    <tr>\n",
       "      <th>2886</th>\n",
       "      <td>The Kindle is my first e-ink reader. I own an ...</td>\n",
       "      <td>NaN</td>\n",
       "    </tr>\n",
       "    <tr>\n",
       "      <th>2887</th>\n",
       "      <td>I'm a first-time Kindle owner, so I have nothi...</td>\n",
       "      <td>NaN</td>\n",
       "    </tr>\n",
       "    <tr>\n",
       "      <th>2888</th>\n",
       "      <td>UPDATE NOVEMBER 2011:My review is now over a y...</td>\n",
       "      <td>NaN</td>\n",
       "    </tr>\n",
       "    <tr>\n",
       "      <th>2889</th>\n",
       "      <td>I'm a first-time Kindle owner, so I have nothi...</td>\n",
       "      <td>NaN</td>\n",
       "    </tr>\n",
       "    <tr>\n",
       "      <th>2890</th>\n",
       "      <td>I woke up to a nice surprise this morning: a n...</td>\n",
       "      <td>NaN</td>\n",
       "    </tr>\n",
       "    <tr>\n",
       "      <th>2891</th>\n",
       "      <td>The Kindle is my first e-ink reader. I own an ...</td>\n",
       "      <td>NaN</td>\n",
       "    </tr>\n",
       "    <tr>\n",
       "      <th>2892</th>\n",
       "      <td>UPDATE NOVEMBER 2011:br /br /My review is now ...</td>\n",
       "      <td>NaN</td>\n",
       "    </tr>\n",
       "    <tr>\n",
       "      <th>2893</th>\n",
       "      <td>I woke up to a nice surprise this morning: a n...</td>\n",
       "      <td>NaN</td>\n",
       "    </tr>\n",
       "    <tr>\n",
       "      <th>2894</th>\n",
       "      <td>I use to hate to read but now that I have my K...</td>\n",
       "      <td>NaN</td>\n",
       "    </tr>\n",
       "    <tr>\n",
       "      <th>2895</th>\n",
       "      <td>All of them quit working. There's absolutely n...</td>\n",
       "      <td>NaN</td>\n",
       "    </tr>\n",
       "    <tr>\n",
       "      <th>2896</th>\n",
       "      <td>I recently ordered my 8th Kindle. It was to re...</td>\n",
       "      <td>NaN</td>\n",
       "    </tr>\n",
       "    <tr>\n",
       "      <th>2897</th>\n",
       "      <td>Great. Love it.</td>\n",
       "      <td>NaN</td>\n",
       "    </tr>\n",
       "    <tr>\n",
       "      <th>2898</th>\n",
       "      <td>I researched the purchase of a Kindle for a lo...</td>\n",
       "      <td>NaN</td>\n",
       "    </tr>\n",
       "    <tr>\n",
       "      <th>2899</th>\n",
       "      <td>This thing has captured my wife's heart. She r...</td>\n",
       "      <td>NaN</td>\n",
       "    </tr>\n",
       "    <tr>\n",
       "      <th>2900</th>\n",
       "      <td>I got my Kindle a few years ago and barely use...</td>\n",
       "      <td>NaN</td>\n",
       "    </tr>\n",
       "    <tr>\n",
       "      <th>2901</th>\n",
       "      <td>It was excellent for me in one moment when I w...</td>\n",
       "      <td>NaN</td>\n",
       "    </tr>\n",
       "    <tr>\n",
       "      <th>2902</th>\n",
       "      <td>Bought for my husband for Christmas and I have...</td>\n",
       "      <td>NaN</td>\n",
       "    </tr>\n",
       "    <tr>\n",
       "      <th>2903</th>\n",
       "      <td>It simply works even after 3.5 years of consta...</td>\n",
       "      <td>NaN</td>\n",
       "    </tr>\n",
       "    <tr>\n",
       "      <th>2904</th>\n",
       "      <td>I would highly recommend them to everyone. Got...</td>\n",
       "      <td>NaN</td>\n",
       "    </tr>\n",
       "    <tr>\n",
       "      <th>3691</th>\n",
       "      <td>UPDATE: I bought both a Fire HD and a Gen 2. (...</td>\n",
       "      <td>NaN</td>\n",
       "    </tr>\n",
       "    <tr>\n",
       "      <th>3692</th>\n",
       "      <td>I just received my kindle fire today. I had a ...</td>\n",
       "      <td>NaN</td>\n",
       "    </tr>\n",
       "    <tr>\n",
       "      <th>3693</th>\n",
       "      <td>I purchased the Kindle Fire ten months ago for...</td>\n",
       "      <td>NaN</td>\n",
       "    </tr>\n",
       "    <tr>\n",
       "      <th>3694</th>\n",
       "      <td>My 7 year old son has the 1st gen Kindle Fire,...</td>\n",
       "      <td>NaN</td>\n",
       "    </tr>\n",
       "    <tr>\n",
       "      <th>14727</th>\n",
       "      <td>Having received my Fire TV today, I've been tr...</td>\n",
       "      <td>NaN</td>\n",
       "    </tr>\n",
       "    <tr>\n",
       "      <th>14728</th>\n",
       "      <td>I'm your typical middle-aged woman - I don't g...</td>\n",
       "      <td>NaN</td>\n",
       "    </tr>\n",
       "    <tr>\n",
       "      <th>14729</th>\n",
       "      <td>An Amazon.com official commented on this revie...</td>\n",
       "      <td>NaN</td>\n",
       "    </tr>\n",
       "    <tr>\n",
       "      <th>14731</th>\n",
       "      <td>Having received my Fire TV today, I've been tr...</td>\n",
       "      <td>NaN</td>\n",
       "    </tr>\n",
       "    <tr>\n",
       "      <th>14732</th>\n",
       "      <td>I am not a casual user of on-demand content an...</td>\n",
       "      <td>NaN</td>\n",
       "    </tr>\n",
       "    <tr>\n",
       "      <th>21226</th>\n",
       "      <td>My previous kindle was a DX, this is my second...</td>\n",
       "      <td>NaN</td>\n",
       "    </tr>\n",
       "    <tr>\n",
       "      <th>21227</th>\n",
       "      <td>Just got mine right now. Looks the same as the...</td>\n",
       "      <td>NaN</td>\n",
       "    </tr>\n",
       "    <tr>\n",
       "      <th>21228</th>\n",
       "      <td>As reviewed by the wife This is the perfect th...</td>\n",
       "      <td>NaN</td>\n",
       "    </tr>\n",
       "    <tr>\n",
       "      <th>21229</th>\n",
       "      <td>My new Kindle Paperwhite came from the USA to ...</td>\n",
       "      <td>NaN</td>\n",
       "    </tr>\n",
       "    <tr>\n",
       "      <th>29572</th>\n",
       "      <td>This stuff tastes great. It does have sugar in...</td>\n",
       "      <td>NaN</td>\n",
       "    </tr>\n",
       "  </tbody>\n",
       "</table>\n",
       "</div>"
      ],
      "text/plain": [
       "                                            reviews.text  reviews.rating\n",
       "2886   The Kindle is my first e-ink reader. I own an ...             NaN\n",
       "2887   I'm a first-time Kindle owner, so I have nothi...             NaN\n",
       "2888   UPDATE NOVEMBER 2011:My review is now over a y...             NaN\n",
       "2889   I'm a first-time Kindle owner, so I have nothi...             NaN\n",
       "2890   I woke up to a nice surprise this morning: a n...             NaN\n",
       "2891   The Kindle is my first e-ink reader. I own an ...             NaN\n",
       "2892   UPDATE NOVEMBER 2011:br /br /My review is now ...             NaN\n",
       "2893   I woke up to a nice surprise this morning: a n...             NaN\n",
       "2894   I use to hate to read but now that I have my K...             NaN\n",
       "2895   All of them quit working. There's absolutely n...             NaN\n",
       "2896   I recently ordered my 8th Kindle. It was to re...             NaN\n",
       "2897                                     Great. Love it.             NaN\n",
       "2898   I researched the purchase of a Kindle for a lo...             NaN\n",
       "2899   This thing has captured my wife's heart. She r...             NaN\n",
       "2900   I got my Kindle a few years ago and barely use...             NaN\n",
       "2901   It was excellent for me in one moment when I w...             NaN\n",
       "2902   Bought for my husband for Christmas and I have...             NaN\n",
       "2903   It simply works even after 3.5 years of consta...             NaN\n",
       "2904   I would highly recommend them to everyone. Got...             NaN\n",
       "3691   UPDATE: I bought both a Fire HD and a Gen 2. (...             NaN\n",
       "3692   I just received my kindle fire today. I had a ...             NaN\n",
       "3693   I purchased the Kindle Fire ten months ago for...             NaN\n",
       "3694   My 7 year old son has the 1st gen Kindle Fire,...             NaN\n",
       "14727  Having received my Fire TV today, I've been tr...             NaN\n",
       "14728  I'm your typical middle-aged woman - I don't g...             NaN\n",
       "14729  An Amazon.com official commented on this revie...             NaN\n",
       "14731  Having received my Fire TV today, I've been tr...             NaN\n",
       "14732  I am not a casual user of on-demand content an...             NaN\n",
       "21226  My previous kindle was a DX, this is my second...             NaN\n",
       "21227  Just got mine right now. Looks the same as the...             NaN\n",
       "21228  As reviewed by the wife This is the perfect th...             NaN\n",
       "21229  My new Kindle Paperwhite came from the USA to ...             NaN\n",
       "29572  This stuff tastes great. It does have sugar in...             NaN"
      ]
     },
     "execution_count": 5,
     "metadata": {},
     "output_type": "execute_result"
    }
   ],
   "source": [
    "check = df[df[\"reviews.rating\"].isnull()]\n",
    "check[[\"reviews.text\", \"reviews.rating\"]]"
   ]
  },
  {
   "cell_type": "code",
   "execution_count": 6,
   "id": "b4c64f23-6245-4a0a-9183-6fdebdc6b405",
   "metadata": {},
   "outputs": [
    {
     "data": {
      "text/html": [
       "<div>\n",
       "<style scoped>\n",
       "    .dataframe tbody tr th:only-of-type {\n",
       "        vertical-align: middle;\n",
       "    }\n",
       "\n",
       "    .dataframe tbody tr th {\n",
       "        vertical-align: top;\n",
       "    }\n",
       "\n",
       "    .dataframe thead th {\n",
       "        text-align: right;\n",
       "    }\n",
       "</style>\n",
       "<table border=\"1\" class=\"dataframe\">\n",
       "  <thead>\n",
       "    <tr style=\"text-align: right;\">\n",
       "      <th></th>\n",
       "      <th>reviews.rating</th>\n",
       "      <th>reviews.text</th>\n",
       "      <th>reviews.title</th>\n",
       "      <th>reviews.username</th>\n",
       "    </tr>\n",
       "  </thead>\n",
       "  <tbody>\n",
       "    <tr>\n",
       "      <th>0</th>\n",
       "      <td>5.0</td>\n",
       "      <td>This product so far has not disappointed. My c...</td>\n",
       "      <td>Kindle</td>\n",
       "      <td>Adapter</td>\n",
       "    </tr>\n",
       "    <tr>\n",
       "      <th>1</th>\n",
       "      <td>5.0</td>\n",
       "      <td>great for beginner or experienced person. Boug...</td>\n",
       "      <td>very fast</td>\n",
       "      <td>truman</td>\n",
       "    </tr>\n",
       "    <tr>\n",
       "      <th>2</th>\n",
       "      <td>5.0</td>\n",
       "      <td>Inexpensive tablet for him to use and learn on...</td>\n",
       "      <td>Beginner tablet for our 9 year old son.</td>\n",
       "      <td>DaveZ</td>\n",
       "    </tr>\n",
       "    <tr>\n",
       "      <th>3</th>\n",
       "      <td>4.0</td>\n",
       "      <td>I've had my Fire HD 8 two weeks now and I love...</td>\n",
       "      <td>Good!!!</td>\n",
       "      <td>Shacks</td>\n",
       "    </tr>\n",
       "    <tr>\n",
       "      <th>4</th>\n",
       "      <td>5.0</td>\n",
       "      <td>I bought this for my grand daughter when she c...</td>\n",
       "      <td>Fantastic Tablet for kids</td>\n",
       "      <td>explore42</td>\n",
       "    </tr>\n",
       "  </tbody>\n",
       "</table>\n",
       "</div>"
      ],
      "text/plain": [
       "   reviews.rating                                       reviews.text  \\\n",
       "0             5.0  This product so far has not disappointed. My c...   \n",
       "1             5.0  great for beginner or experienced person. Boug...   \n",
       "2             5.0  Inexpensive tablet for him to use and learn on...   \n",
       "3             4.0  I've had my Fire HD 8 two weeks now and I love...   \n",
       "4             5.0  I bought this for my grand daughter when she c...   \n",
       "\n",
       "                             reviews.title reviews.username  \n",
       "0                                   Kindle          Adapter  \n",
       "1                                very fast           truman  \n",
       "2  Beginner tablet for our 9 year old son.            DaveZ  \n",
       "3                                  Good!!!           Shacks  \n",
       "4                Fantastic Tablet for kids        explore42  "
      ]
     },
     "execution_count": 6,
     "metadata": {},
     "output_type": "execute_result"
    }
   ],
   "source": [
    "senti = df[df[\"reviews.rating\"].notnull()]\n",
    "senti.head()"
   ]
  },
  {
   "cell_type": "code",
   "execution_count": 7,
   "id": "3fb578cd-4485-48bc-92c7-6417140a9f92",
   "metadata": {},
   "outputs": [
    {
     "name": "stdout",
     "output_type": "stream",
     "text": [
      "<class 'pandas.core.frame.DataFrame'>\n",
      "Index: 34627 entries, 0 to 34659\n",
      "Data columns (total 4 columns):\n",
      " #   Column            Non-Null Count  Dtype  \n",
      "---  ------            --------------  -----  \n",
      " 0   reviews.rating    34627 non-null  float64\n",
      " 1   reviews.text      34626 non-null  object \n",
      " 2   reviews.title     34621 non-null  object \n",
      " 3   reviews.username  34620 non-null  object \n",
      "dtypes: float64(1), object(3)\n",
      "memory usage: 1.3+ MB\n"
     ]
    }
   ],
   "source": [
    "senti.info()"
   ]
  },
  {
   "cell_type": "code",
   "execution_count": 8,
   "id": "63c33164-899e-498a-969f-ed0a7e555902",
   "metadata": {},
   "outputs": [],
   "source": [
    "# cleaning"
   ]
  },
  {
   "cell_type": "code",
   "execution_count": 9,
   "id": "816b6b20-21d7-48b7-8e77-6073cc6159ca",
   "metadata": {},
   "outputs": [],
   "source": [
    "import nltk\n",
    "from nltk.stem import SnowballStemmer \n",
    "from nltk.corpus import stopwords  \n",
    "from nltk.tokenize import word_tokenize  "
   ]
  },
  {
   "cell_type": "code",
   "execution_count": 10,
   "id": "31fc5db1-f496-427e-812b-b1d428e36f9d",
   "metadata": {},
   "outputs": [
    {
     "name": "stderr",
     "output_type": "stream",
     "text": [
      "[nltk_data] Downloading package stopwords to\n",
      "[nltk_data]     C:\\Users\\Priyanshu\\AppData\\Roaming\\nltk_data...\n",
      "[nltk_data]   Package stopwords is already up-to-date!\n"
     ]
    },
    {
     "data": {
      "text/plain": [
       "True"
      ]
     },
     "execution_count": 10,
     "metadata": {},
     "output_type": "execute_result"
    }
   ],
   "source": [
    "nltk.download(\"stopwords\")"
   ]
  },
  {
   "cell_type": "code",
   "execution_count": 11,
   "id": "686a9c32-c1ed-4fba-b532-0e0261974c6d",
   "metadata": {},
   "outputs": [
    {
     "name": "stdout",
     "output_type": "stream",
     "text": [
      "Requirement already satisfied: stop_words in c:\\users\\priyanshu\\anaconda3\\lib\\site-packages (2018.7.23)\n"
     ]
    }
   ],
   "source": [
    "!pip install stop_words"
   ]
  },
  {
   "cell_type": "code",
   "execution_count": 12,
   "id": "b99d88d0-3002-4423-a847-85c73c4217f8",
   "metadata": {},
   "outputs": [],
   "source": [
    "from stop_words import get_stop_words"
   ]
  },
  {
   "cell_type": "code",
   "execution_count": 13,
   "id": "b04cf585-778c-49eb-9bee-25780775cd29",
   "metadata": {},
   "outputs": [
    {
     "name": "stdout",
     "output_type": "stream",
     "text": [
      "total unique stop words 213\n"
     ]
    }
   ],
   "source": [
    "stop_words = set(get_stop_words(\"en\"))\n",
    "nltk_words = set(stopwords.words(\"english\"))\n",
    "stop_words.update(nltk_words)\n",
    "print(f\"total unique stop words {len(stop_words)}\")\n"
   ]
  },
  {
   "cell_type": "code",
   "execution_count": 14,
   "id": "e1d18e8b-6178-46f1-ad09-e3b6a5ebcf60",
   "metadata": {},
   "outputs": [],
   "source": [
    "data_set = senti[[\"reviews.text\" ,\"reviews.rating\"]]"
   ]
  },
  {
   "cell_type": "code",
   "execution_count": 15,
   "id": "2ac4824d-6246-4e3c-b146-749ac5b88e7a",
   "metadata": {},
   "outputs": [
    {
     "data": {
      "text/html": [
       "<div>\n",
       "<style scoped>\n",
       "    .dataframe tbody tr th:only-of-type {\n",
       "        vertical-align: middle;\n",
       "    }\n",
       "\n",
       "    .dataframe tbody tr th {\n",
       "        vertical-align: top;\n",
       "    }\n",
       "\n",
       "    .dataframe thead th {\n",
       "        text-align: right;\n",
       "    }\n",
       "</style>\n",
       "<table border=\"1\" class=\"dataframe\">\n",
       "  <thead>\n",
       "    <tr style=\"text-align: right;\">\n",
       "      <th></th>\n",
       "      <th>reviews.text</th>\n",
       "      <th>reviews.rating</th>\n",
       "    </tr>\n",
       "  </thead>\n",
       "  <tbody>\n",
       "    <tr>\n",
       "      <th>0</th>\n",
       "      <td>This product so far has not disappointed. My c...</td>\n",
       "      <td>5.0</td>\n",
       "    </tr>\n",
       "    <tr>\n",
       "      <th>1</th>\n",
       "      <td>great for beginner or experienced person. Boug...</td>\n",
       "      <td>5.0</td>\n",
       "    </tr>\n",
       "    <tr>\n",
       "      <th>2</th>\n",
       "      <td>Inexpensive tablet for him to use and learn on...</td>\n",
       "      <td>5.0</td>\n",
       "    </tr>\n",
       "    <tr>\n",
       "      <th>3</th>\n",
       "      <td>I've had my Fire HD 8 two weeks now and I love...</td>\n",
       "      <td>4.0</td>\n",
       "    </tr>\n",
       "    <tr>\n",
       "      <th>4</th>\n",
       "      <td>I bought this for my grand daughter when she c...</td>\n",
       "      <td>5.0</td>\n",
       "    </tr>\n",
       "  </tbody>\n",
       "</table>\n",
       "</div>"
      ],
      "text/plain": [
       "                                        reviews.text  reviews.rating\n",
       "0  This product so far has not disappointed. My c...             5.0\n",
       "1  great for beginner or experienced person. Boug...             5.0\n",
       "2  Inexpensive tablet for him to use and learn on...             5.0\n",
       "3  I've had my Fire HD 8 two weeks now and I love...             4.0\n",
       "4  I bought this for my grand daughter when she c...             5.0"
      ]
     },
     "execution_count": 15,
     "metadata": {},
     "output_type": "execute_result"
    }
   ],
   "source": [
    "data_set.head()"
   ]
  },
  {
   "cell_type": "code",
   "execution_count": 16,
   "id": "2dd76d20-f067-4b0e-b098-5deeae7954d1",
   "metadata": {},
   "outputs": [
    {
     "name": "stderr",
     "output_type": "stream",
     "text": [
      "C:\\Users\\Priyanshu\\AppData\\Local\\Temp\\ipykernel_12048\\1554355054.py:1: SettingWithCopyWarning: \n",
      "A value is trying to be set on a copy of a slice from a DataFrame.\n",
      "Try using .loc[row_indexer,col_indexer] = value instead\n",
      "\n",
      "See the caveats in the documentation: https://pandas.pydata.org/pandas-docs/stable/user_guide/indexing.html#returning-a-view-versus-a-copy\n",
      "  data_set[\"sentiment\"] = np.where(data_set[\"reviews.rating\"]>=4 ,1 ,-1)\n"
     ]
    }
   ],
   "source": [
    "data_set[\"sentiment\"] = np.where(data_set[\"reviews.rating\"]>=4 ,1 ,-1)"
   ]
  },
  {
   "cell_type": "code",
   "execution_count": 17,
   "id": "3c78cfdd-03ea-4a0c-9517-5becf44e9b86",
   "metadata": {},
   "outputs": [
    {
     "data": {
      "text/html": [
       "<div>\n",
       "<style scoped>\n",
       "    .dataframe tbody tr th:only-of-type {\n",
       "        vertical-align: middle;\n",
       "    }\n",
       "\n",
       "    .dataframe tbody tr th {\n",
       "        vertical-align: top;\n",
       "    }\n",
       "\n",
       "    .dataframe thead th {\n",
       "        text-align: right;\n",
       "    }\n",
       "</style>\n",
       "<table border=\"1\" class=\"dataframe\">\n",
       "  <thead>\n",
       "    <tr style=\"text-align: right;\">\n",
       "      <th></th>\n",
       "      <th>reviews.text</th>\n",
       "      <th>reviews.rating</th>\n",
       "      <th>sentiment</th>\n",
       "    </tr>\n",
       "  </thead>\n",
       "  <tbody>\n",
       "    <tr>\n",
       "      <th>0</th>\n",
       "      <td>This product so far has not disappointed. My c...</td>\n",
       "      <td>5.0</td>\n",
       "      <td>1</td>\n",
       "    </tr>\n",
       "    <tr>\n",
       "      <th>1</th>\n",
       "      <td>great for beginner or experienced person. Boug...</td>\n",
       "      <td>5.0</td>\n",
       "      <td>1</td>\n",
       "    </tr>\n",
       "    <tr>\n",
       "      <th>2</th>\n",
       "      <td>Inexpensive tablet for him to use and learn on...</td>\n",
       "      <td>5.0</td>\n",
       "      <td>1</td>\n",
       "    </tr>\n",
       "    <tr>\n",
       "      <th>3</th>\n",
       "      <td>I've had my Fire HD 8 two weeks now and I love...</td>\n",
       "      <td>4.0</td>\n",
       "      <td>1</td>\n",
       "    </tr>\n",
       "    <tr>\n",
       "      <th>4</th>\n",
       "      <td>I bought this for my grand daughter when she c...</td>\n",
       "      <td>5.0</td>\n",
       "      <td>1</td>\n",
       "    </tr>\n",
       "    <tr>\n",
       "      <th>...</th>\n",
       "      <td>...</td>\n",
       "      <td>...</td>\n",
       "      <td>...</td>\n",
       "    </tr>\n",
       "    <tr>\n",
       "      <th>34655</th>\n",
       "      <td>This is not appreciably faster than any other ...</td>\n",
       "      <td>3.0</td>\n",
       "      <td>-1</td>\n",
       "    </tr>\n",
       "    <tr>\n",
       "      <th>34656</th>\n",
       "      <td>Amazon should include this charger with the Ki...</td>\n",
       "      <td>1.0</td>\n",
       "      <td>-1</td>\n",
       "    </tr>\n",
       "    <tr>\n",
       "      <th>34657</th>\n",
       "      <td>Love my Kindle Fire but I am really disappoint...</td>\n",
       "      <td>1.0</td>\n",
       "      <td>-1</td>\n",
       "    </tr>\n",
       "    <tr>\n",
       "      <th>34658</th>\n",
       "      <td>I was surprised to find it did not come with a...</td>\n",
       "      <td>1.0</td>\n",
       "      <td>-1</td>\n",
       "    </tr>\n",
       "    <tr>\n",
       "      <th>34659</th>\n",
       "      <td>to spite the fact that i have nothing but good...</td>\n",
       "      <td>1.0</td>\n",
       "      <td>-1</td>\n",
       "    </tr>\n",
       "  </tbody>\n",
       "</table>\n",
       "<p>34627 rows × 3 columns</p>\n",
       "</div>"
      ],
      "text/plain": [
       "                                            reviews.text  reviews.rating  \\\n",
       "0      This product so far has not disappointed. My c...             5.0   \n",
       "1      great for beginner or experienced person. Boug...             5.0   \n",
       "2      Inexpensive tablet for him to use and learn on...             5.0   \n",
       "3      I've had my Fire HD 8 two weeks now and I love...             4.0   \n",
       "4      I bought this for my grand daughter when she c...             5.0   \n",
       "...                                                  ...             ...   \n",
       "34655  This is not appreciably faster than any other ...             3.0   \n",
       "34656  Amazon should include this charger with the Ki...             1.0   \n",
       "34657  Love my Kindle Fire but I am really disappoint...             1.0   \n",
       "34658  I was surprised to find it did not come with a...             1.0   \n",
       "34659  to spite the fact that i have nothing but good...             1.0   \n",
       "\n",
       "       sentiment  \n",
       "0              1  \n",
       "1              1  \n",
       "2              1  \n",
       "3              1  \n",
       "4              1  \n",
       "...          ...  \n",
       "34655         -1  \n",
       "34656         -1  \n",
       "34657         -1  \n",
       "34658         -1  \n",
       "34659         -1  \n",
       "\n",
       "[34627 rows x 3 columns]"
      ]
     },
     "execution_count": 17,
     "metadata": {},
     "output_type": "execute_result"
    }
   ],
   "source": [
    "data_set"
   ]
  },
  {
   "cell_type": "code",
   "execution_count": 18,
   "id": "672ff5c3-c024-46ad-97de-ff1eb11fc152",
   "metadata": {},
   "outputs": [],
   "source": [
    "from sklearn.utils import resample\n",
    "df_majority = data_set[data_set[\"sentiment\"]==1]\n",
    "df_minority = data_set[data_set[\"sentiment\"]==-1]\n",
    "\n",
    "#downsample majority\n",
    "df_majority_downsampled = resample(df_majority,n_samples=len(df_minority),random_state=42)\n",
    "\n",
    "#balanced data\n",
    "balanced_data = pd.concat([df_majority_downsampled, df_minority])"
   ]
  },
  {
   "cell_type": "code",
   "execution_count": 19,
   "id": "52dd184b-3177-4647-8df0-45f7b250ff69",
   "metadata": {},
   "outputs": [
    {
     "name": "stderr",
     "output_type": "stream",
     "text": [
      "C:\\Users\\Priyanshu\\AppData\\Local\\Temp\\ipykernel_12048\\1693510178.py:8: SettingWithCopyWarning: \n",
      "A value is trying to be set on a copy of a slice from a DataFrame.\n",
      "Try using .loc[row_indexer,col_indexer] = value instead\n",
      "\n",
      "See the caveats in the documentation: https://pandas.pydata.org/pandas-docs/stable/user_guide/indexing.html#returning-a-view-versus-a-copy\n",
      "  df[\"reviews.text\"] = df[\"reviews.text\"].replace([r\"\\:\\)\",r\"\\:\\-\\)\", r\"\\:\\-\\}\",r\"\\;\\-\\}\",r\"\\:\\-\\>\",r\"\\;\\-\\)\"], [\"Happy\",\"Happy\",\"Happy\",\"Happy\",\"Happy\",\"Happy\"], regex=True)\n",
      "C:\\Users\\Priyanshu\\AppData\\Local\\Temp\\ipykernel_12048\\1693510178.py:9: SettingWithCopyWarning: \n",
      "A value is trying to be set on a copy of a slice from a DataFrame.\n",
      "Try using .loc[row_indexer,col_indexer] = value instead\n",
      "\n",
      "See the caveats in the documentation: https://pandas.pydata.org/pandas-docs/stable/user_guide/indexing.html#returning-a-view-versus-a-copy\n",
      "  df[\"reviews.text\"] = df[\"reviews.text\"].replace([r\"\\:\\-\\(\",r\"\\:\\(\",r\"\\:\\-\\|\",r\"\\;\\-\\(\",r\"\\;\\-\\<\",r\"\\|\\-\\{\"], [\"Sad\", \"Sad\", \"Sad\", \"Sad\", \"Sad\", \"Sad\",], regex=True)\n",
      "C:\\Users\\Priyanshu\\AppData\\Local\\Temp\\ipykernel_12048\\1693510178.py:10: SettingWithCopyWarning: \n",
      "A value is trying to be set on a copy of a slice from a DataFrame.\n",
      "Try using .loc[row_indexer,col_indexer] = value instead\n",
      "\n",
      "See the caveats in the documentation: https://pandas.pydata.org/pandas-docs/stable/user_guide/indexing.html#returning-a-view-versus-a-copy\n",
      "  df[\"reviews.text\"] = df[\"reviews.text\"].replace([r\"\\:\\D\",r\"\\:\\'\\-\\)\",r\"\\:\\`\\-\\(\"], [\"laugh\", \"tear of joy\", \"tear of sadness\"], regex=True)\n",
      "[nltk_data] Downloading package punkt to\n",
      "[nltk_data]     C:\\Users\\Priyanshu\\AppData\\Roaming\\nltk_data...\n",
      "[nltk_data]   Package punkt is already up-to-date!\n",
      "[nltk_data] Downloading package stopwords to\n",
      "[nltk_data]     C:\\Users\\Priyanshu\\AppData\\Roaming\\nltk_data...\n",
      "[nltk_data]   Package stopwords is already up-to-date!\n"
     ]
    }
   ],
   "source": [
    "import nltk\n",
    "import string\n",
    "from nltk.stem import SnowballStemmer \n",
    "from nltk.corpus import stopwords  \n",
    "from nltk.tokenize import word_tokenize  \n",
    "\n",
    "#Converting Emojis to their Respective Emotions\n",
    "df[\"reviews.text\"] = df[\"reviews.text\"].replace([r\"\\:\\)\",r\"\\:\\-\\)\", r\"\\:\\-\\}\",r\"\\;\\-\\}\",r\"\\:\\-\\>\",r\"\\;\\-\\)\"], [\"Happy\",\"Happy\",\"Happy\",\"Happy\",\"Happy\",\"Happy\"], regex=True)\n",
    "df[\"reviews.text\"] = df[\"reviews.text\"].replace([r\"\\:\\-\\(\",r\"\\:\\(\",r\"\\:\\-\\|\",r\"\\;\\-\\(\",r\"\\;\\-\\<\",r\"\\|\\-\\{\"], [\"Sad\", \"Sad\", \"Sad\", \"Sad\", \"Sad\", \"Sad\",], regex=True)\n",
    "df[\"reviews.text\"] = df[\"reviews.text\"].replace([r\"\\:\\D\",r\"\\:\\'\\-\\)\",r\"\\:\\`\\-\\(\"], [\"laugh\", \"tear of joy\", \"tear of sadness\"], regex=True)\n",
    "\n",
    "# Download NLTK resources\n",
    "nltk.download('punkt')\n",
    "nltk.download('stopwords')\n",
    "\n",
    "# Initialize stemmer and stopwords\n",
    "stemmer = SnowballStemmer('english')\n",
    "stop_words = set(stopwords.words('english'))\n",
    "\n",
    "# Text preprocessing function\n",
    "def preprocess_text(text):\n",
    "    if not isinstance(text, str):\n",
    "        return \"\"\n",
    "    # Convert to lowercase\n",
    "    text = text.lower()\n",
    "    # Remove punctuation\n",
    "    text = text.translate(str.maketrans('', '', string.punctuation))\n",
    "    # Tokenize\n",
    "    words = word_tokenize(text)\n",
    "    # Remove stopwords and stem\n",
    "    words = [stemmer.stem(w) for w in words if w not in stop_words and len(w) > 2]\n",
    "    return ' '.join(words)\n"
   ]
  },
  {
   "cell_type": "code",
   "execution_count": 20,
   "id": "1c86085d-36fb-4d4c-98b1-1d36a7d176b0",
   "metadata": {},
   "outputs": [
    {
     "name": "stderr",
     "output_type": "stream",
     "text": [
      "[nltk_data] Downloading package punkt_tab to\n",
      "[nltk_data]     C:\\Users\\Priyanshu\\AppData\\Roaming\\nltk_data...\n",
      "[nltk_data]   Package punkt_tab is already up-to-date!\n"
     ]
    }
   ],
   "source": [
    "nltk.download('punkt_tab')\n",
    "# Preprocess all reviews\n",
    "balanced_data['processed_reviews'] = balanced_data['reviews.text'].apply(preprocess_text)"
   ]
  },
  {
   "cell_type": "code",
   "execution_count": 21,
   "id": "df5c87da-173c-41ad-9a6f-3490b7e12940",
   "metadata": {},
   "outputs": [],
   "source": [
    "from sklearn.metrics import classification_report, confusion_matrix, roc_curve, auc\n",
    "from sklearn.model_selection import train_test_split"
   ]
  },
  {
   "cell_type": "code",
   "execution_count": 22,
   "id": "1215b3bf-ffe3-417f-ba62-1cff5f9c203a",
   "metadata": {},
   "outputs": [],
   "source": [
    "train, test = train_test_split(balanced_data, test_size=0.3, random_state=42)"
   ]
  },
  {
   "cell_type": "code",
   "execution_count": 23,
   "id": "303731f8-d0d0-45be-b6cc-9c87bdf5a3d5",
   "metadata": {},
   "outputs": [],
   "source": [
    "# Save to CSV\n",
    "train[['processed_reviews', 'sentiment']].to_csv('train.csv', index=False,header=False)\n",
    "test[['processed_reviews', 'sentiment']].to_csv('test.csv', index=False,header=False)"
   ]
  },
  {
   "cell_type": "code",
   "execution_count": 24,
   "id": "bba695c4-324e-4ffc-ad8d-2a839f455e9d",
   "metadata": {},
   "outputs": [],
   "source": [
    "# Read training data\n",
    "with open(\"train.csv\", 'r', encoding='utf-8') as file:\n",
    "    reviews = list(csv.reader(file))"
   ]
  },
  {
   "cell_type": "code",
   "execution_count": 25,
   "id": "6a7d2735-95d8-41a5-b0a2-30c62c8ebeea",
   "metadata": {},
   "outputs": [],
   "source": [
    "def get_text(reviews, score):\n",
    "    return \" \".join([r[0] for r in reviews if r[1] == str(score)])\n",
    "\n",
    "negative_text = get_text(reviews, -1)\n",
    "positive_text = get_text(reviews, 1)"
   ]
  },
  {
   "cell_type": "code",
   "execution_count": 26,
   "id": "95dd923c-c586-4ebc-9222-c7816f5dd6a6",
   "metadata": {},
   "outputs": [],
   "source": [
    "import re\n",
    "from collections import Counter\n",
    "def count_text(text):\n",
    "    words = re.split(\"\\s+\", text)\n",
    "    return Counter(words)\n",
    "\n",
    "negative_counts = count_text(negative_text)\n",
    "positive_counts = count_text(positive_text)"
   ]
  },
  {
   "cell_type": "code",
   "execution_count": 27,
   "id": "84d4577e-8000-45fd-8a8e-5929fb316629",
   "metadata": {},
   "outputs": [],
   "source": [
    "# Get class counts\n",
    "def get_y_count(score):\n",
    "    return len([r for r in reviews if r[1] == str(score)])\n",
    "\n",
    "positive_review_count = get_y_count(1)\n",
    "negative_review_count = get_y_count(-1)\n",
    "\n",
    "# Class probabilities\n",
    "prob_positive = positive_review_count / len(reviews)\n",
    "prob_negative = negative_review_count / len(reviews)"
   ]
  },
  {
   "cell_type": "code",
   "execution_count": 28,
   "id": "7e597f07-dc50-4345-90ff-54a759f82489",
   "metadata": {},
   "outputs": [
    {
     "data": {
      "text/plain": [
       "(0.5069551777434312, 0.49304482225656876)"
      ]
     },
     "execution_count": 28,
     "metadata": {},
     "output_type": "execute_result"
    }
   ],
   "source": [
    "prob_negative,prob_positive"
   ]
  },
  {
   "cell_type": "code",
   "execution_count": 29,
   "id": "51a040d2-e4eb-4b1c-98dd-0d1b246df6b8",
   "metadata": {},
   "outputs": [],
   "source": [
    "# Improved prediction function with log probabilities\n",
    "def make_class_prediction(text, counts, class_prob, class_count):\n",
    "    log_prediction = math.log(class_prob) \n",
    "    text_counts = Counter(re.split(\"\\s+\", text))\n",
    "    total_words = sum(counts.values()) + class_count\n",
    "    \n",
    "    for word in text_counts:\n",
    "        word_prob = (counts.get(word, 0) + 1) / total_words\n",
    "        log_prediction += text_counts[word] * math.log(word_prob)\n",
    "    \n",
    "    return log_prediction"
   ]
  },
  {
   "cell_type": "code",
   "execution_count": 30,
   "id": "67e9f75f-b6ee-4ddc-9402-baa5d88501d6",
   "metadata": {},
   "outputs": [],
   "source": [
    "def evaluate_model(test_data):\n",
    "    actual = []\n",
    "    predictions = []\n",
    "    \n",
    "    for review in test_data:\n",
    "        if len(review) < 2:  # Skip malformed rows\n",
    "            continue\n",
    "            \n",
    "        text = review[0]\n",
    "        try:\n",
    "            true_label = int(review[1])\n",
    "        except ValueError:\n",
    "            continue  # Skip header row if it exists\n",
    "            \n",
    "        actual.append(true_label)\n",
    "        \n",
    "        neg_pred = make_class_prediction(text, negative_counts, prob_negative, negative_review_count)\n",
    "        pos_pred = make_class_prediction(text, positive_counts, prob_positive, positive_review_count)\n",
    "        \n",
    "        pred = -1 if neg_pred > pos_pred else 1\n",
    "        predictions.append(pred)\n",
    "    \n",
    "    if not actual:  # Check if we have any valid data\n",
    "        print(\"No valid test data found\")\n",
    "        return\n",
    "    \n",
    "    print(\"\\nClassification Report:\")\n",
    "    print(classification_report(actual, predictions, target_names=['Negative', 'Positive']))\n",
    "    \n",
    "    print(\"\\nConfusion Matrix:\")\n",
    "    print(confusion_matrix(actual, predictions))\n",
    "    \n",
    "    fpr, tpr, thresholds = roc_curve(actual, predictions, pos_label=1)\n",
    "    print(f\"\\nAUC: {auc(fpr, tpr):.2f}\")"
   ]
  },
  {
   "cell_type": "code",
   "execution_count": 31,
   "id": "fe573da7-d3e9-4b8b-94b1-64671af14806",
   "metadata": {},
   "outputs": [],
   "source": [
    "test_data = []\n",
    "with open(\"test.csv\", 'r') as file:\n",
    "    reader = csv.reader(file)\n",
    "    for row in reader:\n",
    "        if len(row) >= 2:  # Only take rows with both text and label\n",
    "            test_data.append(row)"
   ]
  },
  {
   "cell_type": "code",
   "execution_count": 32,
   "id": "1b7da8aa-d125-4a63-96ac-2e78e070caa0",
   "metadata": {},
   "outputs": [
    {
     "name": "stdout",
     "output_type": "stream",
     "text": [
      "\n",
      "Classification Report:\n",
      "              precision    recall  f1-score   support\n",
      "\n",
      "    Negative       0.79      0.72      0.75       671\n",
      "    Positive       0.76      0.82      0.79       716\n",
      "\n",
      "    accuracy                           0.77      1387\n",
      "   macro avg       0.77      0.77      0.77      1387\n",
      "weighted avg       0.77      0.77      0.77      1387\n",
      "\n",
      "\n",
      "Confusion Matrix:\n",
      "[[485 186]\n",
      " [129 587]]\n",
      "\n",
      "AUC: 0.77\n"
     ]
    }
   ],
   "source": [
    "# Evaluate model\n",
    "evaluate_model(test_data)"
   ]
  },
  {
   "cell_type": "code",
   "execution_count": 33,
   "id": "354aa998-bc23-4dc6-918a-321c846f7fdd",
   "metadata": {},
   "outputs": [
    {
     "name": "stdout",
     "output_type": "stream",
     "text": [
      "\n",
      "Review Sentiment Analysis Tool\n"
     ]
    },
    {
     "name": "stdin",
     "output_type": "stream",
     "text": [
      "\n",
      "Enter a review to analyze (or 'quit' to exit):  bad\n"
     ]
    },
    {
     "name": "stdout",
     "output_type": "stream",
     "text": [
      "\n",
      "Predicted sentiment: NEGATIVE\n"
     ]
    },
    {
     "name": "stdin",
     "output_type": "stream",
     "text": [
      "\n",
      "Enter a review to analyze (or 'quit' to exit):  quit\n"
     ]
    }
   ],
   "source": [
    "# Interactive prediction\n",
    "def predict_sentiment():\n",
    "    while True:\n",
    "        review_text = input(\"\\nEnter a review to analyze (or 'quit' to exit): \")\n",
    "        if review_text.lower() == 'quit':\n",
    "            break\n",
    "        \n",
    "        processed_text = preprocess_text(review_text)\n",
    "        neg_pred = make_class_prediction(processed_text, negative_counts, prob_negative, negative_review_count)\n",
    "        pos_pred = make_class_prediction(processed_text, positive_counts, prob_positive, positive_review_count)\n",
    "        \n",
    "        print(\"\\nPredicted sentiment:\", \"POSITIVE\" if pos_pred > neg_pred else \"NEGATIVE\")\n",
    "\n",
    "# Run interactive prediction\n",
    "print(\"\\nReview Sentiment Analysis Tool\")\n",
    "predict_sentiment()"
   ]
  },
  {
   "cell_type": "code",
   "execution_count": null,
   "id": "9167530b-d1f4-47b9-baa3-888bbd96ceb0",
   "metadata": {},
   "outputs": [],
   "source": []
  }
 ],
 "metadata": {
  "kernelspec": {
   "display_name": "Python 3 (ipykernel)",
   "language": "python",
   "name": "python3"
  },
  "language_info": {
   "codemirror_mode": {
    "name": "ipython",
    "version": 3
   },
   "file_extension": ".py",
   "mimetype": "text/x-python",
   "name": "python",
   "nbconvert_exporter": "python",
   "pygments_lexer": "ipython3",
   "version": "3.13.5"
  }
 },
 "nbformat": 4,
 "nbformat_minor": 5
}
