import pandas as pd
import numpy as np
import matplotlib.pyplot as plt


df = pd.read_csv('../data/raw/data.csv' ,low_memory=False)


df.head()


df.describe()


df.info()


df["reviews.rating"].value_counts().sort_values(ascending=False)


df["reviews.text"]



