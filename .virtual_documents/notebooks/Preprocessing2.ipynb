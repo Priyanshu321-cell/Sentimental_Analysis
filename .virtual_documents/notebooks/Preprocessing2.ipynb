import pandas as pd
import numpy as np
import matplotlib.pyplot as plt



data = pd.read_csv('../data/raw/data.csv' ,low_memory=False)


# filtering


check = df[df["reviews.rating"].isnull()]
check[["reviews.text", "reviews.rating"]]


senti = df[df["reviews.rating"].notnull()]
senti.head()


senti.info()


# cleaning


import nltk
from nltk.stem import SnowballStemmer 
from nltk.corpus import stopwords  
from nltk.tokenize import word_tokenize  


nltk.download("stopwords")


!pip install stop_words


from stop_words import get_stop_words


stop_words = set(get_stop_words("en"))
nltk_words = set(stopwords.words("english"))
stop_words.update(nltk_words)
print(f"total unique stop words {len(stop_words)}")



data_set = senti[["reviews.text", "reviews.rating"]]


data_set.head()
